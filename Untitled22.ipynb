{
  "nbformat": 4,
  "nbformat_minor": 0,
  "metadata": {
    "colab": {
      "provenance": []
    },
    "kernelspec": {
      "name": "python3",
      "display_name": "Python 3"
    },
    "language_info": {
      "name": "python"
    }
  },
  "cells": [
    {
      "cell_type": "code",
      "execution_count": 1,
      "metadata": {
        "colab": {
          "base_uri": "https://localhost:8080/",
          "height": 106
        },
        "id": "Pu3TWzAmqkCd",
        "outputId": "acdbd7c7-1e25-4340-f834-df380f4fba39"
      },
      "outputs": [
        {
          "output_type": "error",
          "ename": "SyntaxError",
          "evalue": "invalid syntax (<ipython-input-1-776143b48031>, line 1)",
          "traceback": [
            "\u001b[0;36m  File \u001b[0;32m\"<ipython-input-1-776143b48031>\"\u001b[0;36m, line \u001b[0;32m1\u001b[0m\n\u001b[0;31m    Start Coding\u001b[0m\n\u001b[0m          ^\u001b[0m\n\u001b[0;31mSyntaxError\u001b[0m\u001b[0;31m:\u001b[0m invalid syntax\n"
          ]
        }
      ],
      "source": [
        "Start Coding"
      ]
    },
    {
      "cell_type": "code",
      "source": [
        "import numpy as np\n",
        "\n"
      ],
      "metadata": {
        "id": "wPrGE2G_qmOW"
      },
      "execution_count": 1,
      "outputs": []
    },
    {
      "cell_type": "code",
      "source": [
        "class Perceptron:\n",
        "\n",
        "  def __init__(self, learning_rate=0.1, n_epochs=10):\n",
        "    self.learning_rate = learning_rate\n",
        "    self.n_epochs = n_epochs\n",
        "    self.weights = None\n",
        "    self.bias = None\n",
        "\n",
        "  def fit(self, X, y):\n",
        "    n_samples, n_features = X.shape\n",
        "    self.weights = np.zeros(n_features)\n",
        "    self.bias = 0\n",
        "\n",
        "    for epoch in range (self.n_epochs):\n",
        "      for idx, x_i in enumerate(X):\n",
        "        linear_output = np.dot(x_i, self.weight)+self.bias\n",
        "        y_predicted = self.activation_function(linear_output)\n",
        "\n",
        "        update = self.learning_rate * (y[idx] - y_predicted)\n",
        "        self.weights = self.weights + update * x_i\n",
        "        self.bias = self.bias + update\n",
        "        #optional\n",
        "        print(f'Epoch {epoch +1}/{self.n_epochs} - Weights: {self.weights}, Bias: {self.bias}')\n",
        "\n",
        "\n",
        "  def predict(self, X):\n",
        "    linear_output = np.dot(X,self.weights) + self.bias\n",
        "    y_predicted = self._activation_function(linear_output)\n",
        "    return y_predicted\n",
        "\n",
        "  def _activation_function(self, x):\n",
        "    return np.where(x >= 0, 1, 0)"
      ],
      "metadata": {
        "id": "gvK2Wr0LrSbK"
      },
      "execution_count": 2,
      "outputs": []
    },
    {
      "cell_type": "code",
      "source": [
        "if __name__ == \"__main__\":\n",
        "\n",
        "  X = np.array([[0,0],[0,1],[1,0], [1,1]])\n",
        "  y = np.array([0,1,1,1])\n",
        "\n",
        "  perc =Perceptron(learning_rate=0.1, n_epochs=10)\n",
        "\n",
        "\n",
        "  perc.fit(X,y)\n",
        "\n",
        "  predictions = perc.predict(X)\n",
        "  print(\"Predtcions:\",predictions)"
      ],
      "metadata": {
        "id": "NAEtyRxm2G6O"
      },
      "execution_count": null,
      "outputs": []
    }
  ]
}